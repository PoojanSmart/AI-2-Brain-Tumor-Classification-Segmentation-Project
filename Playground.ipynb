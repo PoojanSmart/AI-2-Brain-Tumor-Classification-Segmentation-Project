{
 "cells": [
  {
   "cell_type": "code",
   "execution_count": 1,
   "id": "f35f0b95",
   "metadata": {},
   "outputs": [],
   "source": [
    "import numpy as np\n",
    "import random\n",
    "from tensorflow.keras.preprocessing.image import ImageDataGenerator"
   ]
  },
  {
   "cell_type": "code",
   "execution_count": 75,
   "id": "03d897a0",
   "metadata": {},
   "outputs": [],
   "source": [
    "import os, shutil\n",
    "train = 0.6\n",
    "val = 0.2\n",
    "test = 0.2\n",
    "for each_class in os.listdir('only-scans'):\n",
    "    images = os.listdir('only-scans/'+each_class)\n",
    "    train_size, val_size = tuple(np.array([train,val]) * len(images) )\n",
    "    train_size = np.round(train_size).astype('int')\n",
    "    val_size = np.round(val_size).astype('int')\n",
    "    \n",
    "    random.shuffle(images)\n",
    "    \n",
    "    train_dat = images[:train_size]\n",
    "    val_dat = images[train_size : train_size + val_size]\n",
    "    test_dat = images[train_size + val_size :]\n",
    "    \n",
    "    for el in train_dat:\n",
    "        os.makedirs(\"classification/\"+\"train/\"+each_class, exist_ok=True)\n",
    "        shutil.copy(\"only-scans/\"+each_class+\"/\"+el,\"classification/\"+\"train/\"+each_class+\"/\"+el)    \n",
    "    for el in val_dat:\n",
    "        os.makedirs(\"classification/\"+\"validation/\"+each_class, exist_ok=True)\n",
    "        shutil.copy(\"only-scans/\"+each_class+\"/\"+el,\"classification/\"+\"validation/\"+each_class+\"/\"+el)    \n",
    "    for el in test_dat:\n",
    "        os.makedirs(\"classification/\"+\"test/\"+each_class, exist_ok=True)\n",
    "        shutil.copy(\"only-scans/\"+each_class+\"/\"+el,\"classification/\"+\"test/\"+each_class+\"/\"+el)    \n"
   ]
  },
  {
   "cell_type": "code",
   "execution_count": 6,
   "id": "e4b6b12c",
   "metadata": {},
   "outputs": [],
   "source": [
    "datagen = ImageDataGenerator(rescale = 1/255)"
   ]
  },
  {
   "cell_type": "code",
   "execution_count": 59,
   "id": "ee14f02f",
   "metadata": {},
   "outputs": [
    {
     "name": "stdout",
     "output_type": "stream",
     "text": [
      "Found 1839 images belonging to 3 classes.\n",
      "Found 610 images belonging to 3 classes.\n",
      "Found 606 images belonging to 3 classes.\n"
     ]
    }
   ],
   "source": [
    "traingen = datagen.flow_from_directory(\"classification/train\",target_size=(512, 512), color_mode='grayscale', \n",
    "                            class_mode='categorical', batch_size=16)\n",
    "valgen = datagen.flow_from_directory(\"classification/validation\",target_size=(512, 512), color_mode='grayscale', \n",
    "                            class_mode='categorical', batch_size=16)\n",
    "testgen = datagen.flow_from_directory(\"classification/test\",target_size=(512, 512), color_mode='grayscale', \n",
    "                            class_mode='categorical', batch_size=16)\n"
   ]
  },
  {
   "cell_type": "code",
   "execution_count": null,
   "id": "1e2733fe",
   "metadata": {},
   "outputs": [],
   "source": [
    "import os, shutil\n",
    "train = 0.6\n",
    "val = 0.2\n",
    "test = 0.2\n",
    "for each_class in :\n",
    "    images = os.listdir('only-scans/'+each_class)\n",
    "    train_size, val_size = tuple(np.array([train,val]) * len(images) )\n",
    "    train_size = np.round(train_size).astype('int')\n",
    "    val_size = np.round(val_size).astype('int')\n",
    "    \n",
    "    random.shuffle(images)\n",
    "    \n",
    "    train_dat = images[:train_size]\n",
    "    val_dat = images[train_size : train_size + val_size]\n",
    "    test_dat = images[train_size + val_size :]\n",
    "    \n",
    "    for el in train_dat:\n",
    "        os.makedirs(\"classification/\"+\"train/\"+each_class, exist_ok=True)\n",
    "        shutil.copy(\"only-scans/\"+each_class+\"/\"+el,\"classification/\"+\"train/\"+each_class+\"/\"+el)    \n",
    "    for el in val_dat:\n",
    "        os.makedirs(\"classification/\"+\"validation/\"+each_class, exist_ok=True)\n",
    "        shutil.copy(\"only-scans/\"+each_class+\"/\"+el,\"classification/\"+\"validation/\"+each_class+\"/\"+el)    \n",
    "    for el in test_dat:\n",
    "        os.makedirs(\"classification/\"+\"test/\"+each_class, exist_ok=True)\n",
    "        shutil.copy(\"only-scans/\"+each_class+\"/\"+el,\"classification/\"+\"test/\"+each_class+\"/\"+el)    \n"
   ]
  },
  {
   "cell_type": "code",
   "execution_count": 14,
   "id": "8e4f3fe8",
   "metadata": {},
   "outputs": [],
   "source": [
    "import os, shutil\n",
    "\n",
    "train = 0.6\n",
    "val = 0.2\n",
    "test = 0.2\n",
    "\n",
    "scans = os.listdir('scan+mask/scan')\n",
    "masks = os.listdir('scan+mask/mask')\n",
    "random.shuffle(scans)\n",
    "random.shuffle(masks)\n",
    "\n",
    "os.makedirs(\"scan+mask/\"+\"train/\"+\"scan\"+\"/img\", exist_ok=True)\n",
    "os.makedirs(\"scan+mask/\"+\"train/\"+\"mask\"+\"/img\", exist_ok=True)\n",
    "os.makedirs(\"scan+mask/\"+\"val/\"+\"scan\"+\"/img\", exist_ok=True)\n",
    "os.makedirs(\"scan+mask/\"+\"val/\"+\"mask\"+\"/img\", exist_ok=True)\n",
    "os.makedirs(\"scan+mask/\"+\"test/\"+\"scan\"+\"/img\", exist_ok=True)\n",
    "os.makedirs(\"scan+mask/\"+\"test/\"+\"mask\"+\"/img\", exist_ok=True)\n",
    "\n",
    "train_size, val_size = tuple(np.array([train,val]) * len(scans) )\n",
    "train_size = np.round(train_size).astype('int')\n",
    "val_size = np.round(val_size).astype('int')\n",
    "\n",
    "train_dat = scans[:train_size]\n",
    "val_dat = scans[train_size : train_size + val_size]\n",
    "test_dat = scans[train_size + val_size :]\n",
    "\n",
    "for el in train_dat:\n",
    "    shutil.copy(\"scan+mask/scan/\"+el,\"scan+mask/\"+\"train/\"+\"scan\"+\"/img/\"+el)\n",
    "    shutil.copy(\"scan+mask/mask/\"+el,\"scan+mask/\"+\"train/\"+\"mask\"+\"/img/\"+el)\n",
    "for el in val_dat:\n",
    "    shutil.copy(\"scan+mask/scan/\"+el,\"scan+mask/\"+\"val/\"+\"scan\"+\"/img/\"+el)\n",
    "    shutil.copy(\"scan+mask/mask/\"+el,\"scan+mask/\"+\"val/\"+\"mask\"+\"/img/\"+el)\n",
    "for el in test_dat:\n",
    "    shutil.copy(\"scan+mask/scan/\"+el,\"scan+mask/\"+\"test/\"+\"scan\"+\"/img/\"+el)\n",
    "    shutil.copy(\"scan+mask/mask/\"+el,\"scan+mask/\"+\"test/\"+\"mask\"+\"/img/\"+el)"
   ]
  }
 ],
 "metadata": {
  "kernelspec": {
   "display_name": "Python 3 (ipykernel)",
   "language": "python",
   "name": "python3"
  },
  "language_info": {
   "codemirror_mode": {
    "name": "ipython",
    "version": 3
   },
   "file_extension": ".py",
   "mimetype": "text/x-python",
   "name": "python",
   "nbconvert_exporter": "python",
   "pygments_lexer": "ipython3",
   "version": "3.9.0"
  }
 },
 "nbformat": 4,
 "nbformat_minor": 5
}
