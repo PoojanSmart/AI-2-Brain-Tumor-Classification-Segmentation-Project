{
 "cells": [
  {
   "cell_type": "code",
   "execution_count": 40,
   "id": "f7dd2010",
   "metadata": {},
   "outputs": [],
   "source": [
    "import numpy as np\n",
    "import random\n",
    "from tensorflow.keras.preprocessing.image import ImageDataGenerator"
   ]
  },
  {
   "cell_type": "code",
   "execution_count": 75,
   "id": "1ddd2858",
   "metadata": {},
   "outputs": [],
   "source": [
    "import os, shutil\n",
    "train = 0.6\n",
    "val = 0.2\n",
    "test = 0.2\n",
    "for each_class in os.listdir('only-scans'):\n",
    "    images = os.listdir('only-scans/'+each_class)\n",
    "    train_size, val_size = tuple(np.array([train,val]) * len(images) )\n",
    "    train_size = np.round(train_size).astype('int')\n",
    "    val_size = np.round(val_size).astype('int')\n",
    "    \n",
    "    random.shuffle(images)\n",
    "    \n",
    "    train_dat = images[:train_size]\n",
    "    val_dat = images[train_size : train_size + val_size]\n",
    "    test_dat = images[train_size + val_size :]\n",
    "    \n",
    "    for el in train_dat:\n",
    "        os.makedirs(\"classification/\"+\"train/\"+each_class, exist_ok=True)\n",
    "        shutil.copy(\"only-scans/\"+each_class+\"/\"+el,\"classification/\"+\"train/\"+each_class+\"/\"+el)    \n",
    "    for el in val_dat:\n",
    "        os.makedirs(\"classification/\"+\"validation/\"+each_class, exist_ok=True)\n",
    "        shutil.copy(\"only-scans/\"+each_class+\"/\"+el,\"classification/\"+\"validation/\"+each_class+\"/\"+el)    \n",
    "    for el in test_dat:\n",
    "        os.makedirs(\"classification/\"+\"test/\"+each_class, exist_ok=True)\n",
    "        shutil.copy(\"only-scans/\"+each_class+\"/\"+el,\"classification/\"+\"test/\"+each_class+\"/\"+el)    \n"
   ]
  },
  {
   "cell_type": "code",
   "execution_count": 6,
   "id": "b3f39aa7",
   "metadata": {},
   "outputs": [],
   "source": [
    "datagen = ImageDataGenerator(rescale = 1/255)"
   ]
  },
  {
   "cell_type": "code",
   "execution_count": 59,
   "id": "410badcb",
   "metadata": {},
   "outputs": [
    {
     "name": "stdout",
     "output_type": "stream",
     "text": [
      "Found 1839 images belonging to 3 classes.\n",
      "Found 610 images belonging to 3 classes.\n",
      "Found 606 images belonging to 3 classes.\n"
     ]
    }
   ],
   "source": [
    "traingen = datagen.flow_from_directory(\"classification/train\",target_size=(512, 512), color_mode='grayscale', \n",
    "                            class_mode='categorical', batch_size=16)\n",
    "valgen = datagen.flow_from_directory(\"classification/validation\",target_size=(512, 512), color_mode='grayscale', \n",
    "                            class_mode='categorical', batch_size=16)\n",
    "testgen = datagen.flow_from_directory(\"classification/test\",target_size=(512, 512), color_mode='grayscale', \n",
    "                            class_mode='categorical', batch_size=16)\n"
   ]
  }
 ],
 "metadata": {
  "kernelspec": {
   "display_name": "Python 3 (ipykernel)",
   "language": "python",
   "name": "python3"
  },
  "language_info": {
   "codemirror_mode": {
    "name": "ipython",
    "version": 3
   },
   "file_extension": ".py",
   "mimetype": "text/x-python",
   "name": "python",
   "nbconvert_exporter": "python",
   "pygments_lexer": "ipython3",
   "version": "3.9.0"
  }
 },
 "nbformat": 4,
 "nbformat_minor": 5
}
